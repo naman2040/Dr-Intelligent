{
 "cells": [
  {
   "cell_type": "code",
   "execution_count": 1,
   "metadata": {},
   "outputs": [],
   "source": [
    "import PyPDF2\n",
    "import numpy as np\n",
    "import pandas as pd\n",
    "from sklearn.model_selection import train_test_split\n",
    "from sklearn.preprocessing import StandardScaler\n",
    "from sklearn.neighbors import KNeighborsClassifier\n",
    "from sklearn.metrics import accuracy_score"
   ]
  },
  {
   "cell_type": "code",
   "execution_count": 2,
   "metadata": {},
   "outputs": [],
   "source": [
    "df=pd.read_csv(\"Heart_minor.csv\",index_col=0)\n",
    "pdf = open(\"report4.pdf\",\"rb\")\n",
    "reader = PyPDF2.PdfReader(pdf)"
   ]
  },
  {
   "cell_type": "code",
   "execution_count": 3,
   "metadata": {},
   "outputs": [
    {
     "name": "stdout",
     "output_type": "stream",
     "text": [
      "['age', 'sex', 'chest pain', 'cholesterol', '(fasting)', 'thalach', 'angina:', 'old-peak', 'slope', '(ca)', 'thalassemia']\n"
     ]
    }
   ],
   "source": [
    "attributes = [\"age\",\"sex\",\"chest pain\",\"cholesterol\",\"(fasting)\",\"thalach\",\"angina:\",\"old-peak\",\"slope\",\"(ca)\",\"thalassemia\",\"target\"]\n",
    "df.columns = attributes\n",
    "attributes = attributes[:-1]\n",
    "print(attributes)"
   ]
  },
  {
   "cell_type": "code",
   "execution_count": 4,
   "metadata": {},
   "outputs": [
    {
     "data": {
      "text/plain": [
       "' \\ncontact:  0181 -7834932  www .drintelligent .com  phone : 8247238429  dr. intelligent adanced heart -care centre  \\n \\npatient details  \\nname: patient intelligent                        age: 21;                        sex: m; \\n \\n \\nheart -report  \\n \\nchest pain:  atypical angina  \\n \\ncholesterol:   233 mg/dl  \\n \\nsugar (fasting):  130 mg/dl  \\n \\nthalach:  150 bpm  \\n \\nangina:  yes \\n \\nold-peak:  2.3 \\n \\nslope:  down -sloping  \\n \\nmajor -vessels (ca): 0 \\n \\nthalassemia : fixed -defect  \\n \\n '"
      ]
     },
     "execution_count": 4,
     "metadata": {},
     "output_type": "execute_result"
    }
   ],
   "source": [
    "text=\"\"\n",
    "page=reader.pages[0]\n",
    "text=page.extract_text().lower()\n",
    "text"
   ]
  },
  {
   "cell_type": "code",
   "execution_count": 5,
   "metadata": {},
   "outputs": [],
   "source": [
    "def find_value(i,text):\n",
    "    index=text.find(i)\n",
    "    index=index+len(i)\n",
    "    end=index\n",
    "    while text[end] != '\\n':\n",
    "        end+=1\n",
    "    li_value = text[index:end]\n",
    "    value_list = li_value.split() \n",
    "    if(value_list[0]==':'):\n",
    "        value_list.remove(value_list[0])\n",
    "    temp_value = value_list[0]\n",
    "    temp_dict={\"m\":1,\"f\":0,\"asymptomatic\":0,\"atypical\":1,\n",
    "               \"non-anginal\":2,\"typical\":3,\"yes\":1,\"no\":0,\n",
    "               \"down\":0,\"flat\":1,\"upsloping\":2,\"fixed\":1,\"normal\":2,\"reversible\":3}\n",
    "    if(temp_value[-1]==';'):\n",
    "        temp_value=temp_value[:-1]\n",
    "    new_temp_value=temp_value\n",
    "    if(temp_value in list(temp_dict.keys())):\n",
    "        new_temp_value=temp_dict[temp_value]\n",
    "    return new_temp_value"
   ]
  },
  {
   "cell_type": "code",
   "execution_count": 6,
   "metadata": {},
   "outputs": [
    {
     "data": {
      "text/plain": [
       "{'age': 21.0,\n",
       " 'sex': 1.0,\n",
       " 'chest pain': 1.0,\n",
       " 'cholesterol': 233.0,\n",
       " '(fasting)': 130.0,\n",
       " 'thalach': 150.0,\n",
       " 'angina:': 1.0,\n",
       " 'old-peak': 2.3,\n",
       " 'slope': 0.0,\n",
       " '(ca)': 0.0,\n",
       " 'thalassemia': 1.0}"
      ]
     },
     "execution_count": 6,
     "metadata": {},
     "output_type": "execute_result"
    }
   ],
   "source": [
    "values = {}\n",
    "for i in attributes:\n",
    "    if(i in text):\n",
    "        value = find_value(i,text)\n",
    "        values[i]=float(value)\n",
    "    else:\n",
    "        values[i]=-1\n",
    "values"
   ]
  },
  {
   "cell_type": "code",
   "execution_count": 7,
   "metadata": {},
   "outputs": [
    {
     "data": {
      "text/html": [
       "<div>\n",
       "<style scoped>\n",
       "    .dataframe tbody tr th:only-of-type {\n",
       "        vertical-align: middle;\n",
       "    }\n",
       "\n",
       "    .dataframe tbody tr th {\n",
       "        vertical-align: top;\n",
       "    }\n",
       "\n",
       "    .dataframe thead th {\n",
       "        text-align: right;\n",
       "    }\n",
       "</style>\n",
       "<table border=\"1\" class=\"dataframe\">\n",
       "  <thead>\n",
       "    <tr style=\"text-align: right;\">\n",
       "      <th></th>\n",
       "      <th>age</th>\n",
       "      <th>sex</th>\n",
       "      <th>chest pain</th>\n",
       "      <th>cholesterol</th>\n",
       "      <th>(fasting)</th>\n",
       "      <th>thalach</th>\n",
       "      <th>angina:</th>\n",
       "      <th>old-peak</th>\n",
       "      <th>slope</th>\n",
       "      <th>(ca)</th>\n",
       "      <th>thalassemia</th>\n",
       "      <th>target</th>\n",
       "    </tr>\n",
       "  </thead>\n",
       "  <tbody>\n",
       "    <tr>\n",
       "      <th>0</th>\n",
       "      <td>63</td>\n",
       "      <td>1</td>\n",
       "      <td>3</td>\n",
       "      <td>233</td>\n",
       "      <td>1</td>\n",
       "      <td>150</td>\n",
       "      <td>0</td>\n",
       "      <td>2.3</td>\n",
       "      <td>0</td>\n",
       "      <td>0</td>\n",
       "      <td>1</td>\n",
       "      <td>1</td>\n",
       "    </tr>\n",
       "    <tr>\n",
       "      <th>1</th>\n",
       "      <td>37</td>\n",
       "      <td>1</td>\n",
       "      <td>2</td>\n",
       "      <td>250</td>\n",
       "      <td>0</td>\n",
       "      <td>187</td>\n",
       "      <td>0</td>\n",
       "      <td>3.5</td>\n",
       "      <td>0</td>\n",
       "      <td>0</td>\n",
       "      <td>2</td>\n",
       "      <td>1</td>\n",
       "    </tr>\n",
       "    <tr>\n",
       "      <th>2</th>\n",
       "      <td>41</td>\n",
       "      <td>0</td>\n",
       "      <td>1</td>\n",
       "      <td>204</td>\n",
       "      <td>0</td>\n",
       "      <td>172</td>\n",
       "      <td>0</td>\n",
       "      <td>1.4</td>\n",
       "      <td>2</td>\n",
       "      <td>0</td>\n",
       "      <td>2</td>\n",
       "      <td>1</td>\n",
       "    </tr>\n",
       "    <tr>\n",
       "      <th>3</th>\n",
       "      <td>56</td>\n",
       "      <td>1</td>\n",
       "      <td>1</td>\n",
       "      <td>236</td>\n",
       "      <td>0</td>\n",
       "      <td>178</td>\n",
       "      <td>0</td>\n",
       "      <td>0.8</td>\n",
       "      <td>2</td>\n",
       "      <td>0</td>\n",
       "      <td>2</td>\n",
       "      <td>1</td>\n",
       "    </tr>\n",
       "    <tr>\n",
       "      <th>4</th>\n",
       "      <td>57</td>\n",
       "      <td>0</td>\n",
       "      <td>0</td>\n",
       "      <td>354</td>\n",
       "      <td>0</td>\n",
       "      <td>163</td>\n",
       "      <td>1</td>\n",
       "      <td>0.6</td>\n",
       "      <td>2</td>\n",
       "      <td>0</td>\n",
       "      <td>2</td>\n",
       "      <td>1</td>\n",
       "    </tr>\n",
       "    <tr>\n",
       "      <th>...</th>\n",
       "      <td>...</td>\n",
       "      <td>...</td>\n",
       "      <td>...</td>\n",
       "      <td>...</td>\n",
       "      <td>...</td>\n",
       "      <td>...</td>\n",
       "      <td>...</td>\n",
       "      <td>...</td>\n",
       "      <td>...</td>\n",
       "      <td>...</td>\n",
       "      <td>...</td>\n",
       "      <td>...</td>\n",
       "    </tr>\n",
       "    <tr>\n",
       "      <th>298</th>\n",
       "      <td>57</td>\n",
       "      <td>0</td>\n",
       "      <td>0</td>\n",
       "      <td>241</td>\n",
       "      <td>0</td>\n",
       "      <td>123</td>\n",
       "      <td>1</td>\n",
       "      <td>0.2</td>\n",
       "      <td>1</td>\n",
       "      <td>0</td>\n",
       "      <td>3</td>\n",
       "      <td>0</td>\n",
       "    </tr>\n",
       "    <tr>\n",
       "      <th>299</th>\n",
       "      <td>45</td>\n",
       "      <td>1</td>\n",
       "      <td>3</td>\n",
       "      <td>264</td>\n",
       "      <td>0</td>\n",
       "      <td>132</td>\n",
       "      <td>0</td>\n",
       "      <td>1.2</td>\n",
       "      <td>1</td>\n",
       "      <td>0</td>\n",
       "      <td>3</td>\n",
       "      <td>0</td>\n",
       "    </tr>\n",
       "    <tr>\n",
       "      <th>300</th>\n",
       "      <td>68</td>\n",
       "      <td>1</td>\n",
       "      <td>0</td>\n",
       "      <td>193</td>\n",
       "      <td>1</td>\n",
       "      <td>141</td>\n",
       "      <td>0</td>\n",
       "      <td>3.4</td>\n",
       "      <td>1</td>\n",
       "      <td>2</td>\n",
       "      <td>3</td>\n",
       "      <td>0</td>\n",
       "    </tr>\n",
       "    <tr>\n",
       "      <th>301</th>\n",
       "      <td>57</td>\n",
       "      <td>1</td>\n",
       "      <td>0</td>\n",
       "      <td>131</td>\n",
       "      <td>0</td>\n",
       "      <td>115</td>\n",
       "      <td>1</td>\n",
       "      <td>1.2</td>\n",
       "      <td>1</td>\n",
       "      <td>1</td>\n",
       "      <td>3</td>\n",
       "      <td>0</td>\n",
       "    </tr>\n",
       "    <tr>\n",
       "      <th>302</th>\n",
       "      <td>57</td>\n",
       "      <td>0</td>\n",
       "      <td>1</td>\n",
       "      <td>236</td>\n",
       "      <td>0</td>\n",
       "      <td>174</td>\n",
       "      <td>0</td>\n",
       "      <td>0.0</td>\n",
       "      <td>1</td>\n",
       "      <td>1</td>\n",
       "      <td>2</td>\n",
       "      <td>0</td>\n",
       "    </tr>\n",
       "  </tbody>\n",
       "</table>\n",
       "<p>303 rows × 12 columns</p>\n",
       "</div>"
      ],
      "text/plain": [
       "     age  sex  chest pain  cholesterol  (fasting)  thalach  angina:  old-peak  \\\n",
       "0     63    1           3          233          1      150        0       2.3   \n",
       "1     37    1           2          250          0      187        0       3.5   \n",
       "2     41    0           1          204          0      172        0       1.4   \n",
       "3     56    1           1          236          0      178        0       0.8   \n",
       "4     57    0           0          354          0      163        1       0.6   \n",
       "..   ...  ...         ...          ...        ...      ...      ...       ...   \n",
       "298   57    0           0          241          0      123        1       0.2   \n",
       "299   45    1           3          264          0      132        0       1.2   \n",
       "300   68    1           0          193          1      141        0       3.4   \n",
       "301   57    1           0          131          0      115        1       1.2   \n",
       "302   57    0           1          236          0      174        0       0.0   \n",
       "\n",
       "     slope  (ca)  thalassemia  target  \n",
       "0        0     0            1       1  \n",
       "1        0     0            2       1  \n",
       "2        2     0            2       1  \n",
       "3        2     0            2       1  \n",
       "4        2     0            2       1  \n",
       "..     ...   ...          ...     ...  \n",
       "298      1     0            3       0  \n",
       "299      1     0            3       0  \n",
       "300      1     2            3       0  \n",
       "301      1     1            3       0  \n",
       "302      1     1            2       0  \n",
       "\n",
       "[303 rows x 12 columns]"
      ]
     },
     "execution_count": 7,
     "metadata": {},
     "output_type": "execute_result"
    }
   ],
   "source": [
    "for i in values.keys():\n",
    "    if(values[i]==-1):\n",
    "        df.drop(columns=[i],inplace=True)\n",
    "df"
   ]
  },
  {
   "cell_type": "code",
   "execution_count": 8,
   "metadata": {},
   "outputs": [],
   "source": [
    "x = df.iloc[:,:-1].values\n",
    "y = df.iloc[:,-1].values\n",
    "rand_int = np.random.randint(1,100)\n",
    "x_train,x_test,y_train,y_test = train_test_split(x,y,test_size=0.2,random_state=rand_int)\n",
    "ss = StandardScaler()\n",
    "x_train_ss = ss.fit_transform(x_train)\n",
    "x_test_ss = ss.transform(x_test)\n",
    "KNN = KNeighborsClassifier(n_neighbors=13,metric=\"minkowski\",p=2)\n",
    "KNN.fit(x_train_ss,y_train)\n",
    "y_pred = KNN.predict(x_test_ss)\n"
   ]
  },
  {
   "cell_type": "code",
   "execution_count": 9,
   "metadata": {},
   "outputs": [
    {
     "data": {
      "text/plain": [
       "[21.0, 1.0, 1.0, 233.0, 130.0, 150.0, 1.0, 2.3, 0.0, 0.0, 1.0]"
      ]
     },
     "execution_count": 9,
     "metadata": {},
     "output_type": "execute_result"
    }
   ],
   "source": [
    "input_list = list(map(float,[values[x] for x in values.keys() if(values[x])!=-1]))\n",
    "input_list"
   ]
  },
  {
   "cell_type": "code",
   "execution_count": 10,
   "metadata": {},
   "outputs": [
    {
     "name": "stdout",
     "output_type": "stream",
     "text": [
      "\n",
      "With 81.97 accuracy our Doctor Believes that you Have a Heart Disease.\n"
     ]
    }
   ],
   "source": [
    "label = KNN.predict(ss.transform([input_list]))\n",
    "if(label==0):\n",
    "    output=\"Don't Have\"\n",
    "if(label==1):\n",
    "    output = \"Have\"\n",
    "print(f\"\\nWith {round(accuracy_score(y_test,y_pred)*100,2)} accuracy our Doctor Believes that you {output} a Heart Disease.\")"
   ]
  }
 ],
 "metadata": {
  "kernelspec": {
   "display_name": "base",
   "language": "python",
   "name": "python3"
  },
  "language_info": {
   "codemirror_mode": {
    "name": "ipython",
    "version": 3
   },
   "file_extension": ".py",
   "mimetype": "text/x-python",
   "name": "python",
   "nbconvert_exporter": "python",
   "pygments_lexer": "ipython3",
   "version": "3.9.7"
  },
  "orig_nbformat": 4,
  "vscode": {
   "interpreter": {
    "hash": "a5d6c2be6262c78dadbf075e7ed7eef3fc1090c1044fdcff36d11e01ba01e819"
   }
  }
 },
 "nbformat": 4,
 "nbformat_minor": 2
}
